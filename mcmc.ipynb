{
 "cells": [
  {
   "cell_type": "code",
   "execution_count": 1,
   "id": "d83a35b0",
   "metadata": {},
   "outputs": [],
   "source": [
    "from autograd import grad\n",
    "\n",
    "import matplotlib.pyplot as plt\n",
    "import numpy as np\n",
    "import pandas as pd\n",
    "\n",
    "from scipy.stats import multivariate_normal, truncnorm\n",
    "import scipy.stats as stats\n",
    "from scipy.stats import chi2, norm, invgamma\n",
    "\n",
    "import seaborn as sns\n",
    "import statsmodels.api as sm\n",
    "\n",
    "from tqdm import tqdm"
   ]
  },
  {
   "cell_type": "markdown",
   "id": "93ac81e3",
   "metadata": {},
   "source": [
    "# Markov Chain Monte-Carlo Sampling\n",
    "\n",
    "We implement MCMC methods to sample from a posterior distribution. Let's start by having a look at the data. </br></br>  $(y_1,y_2,\\dots,y_n)$ are gene expression measurements for two genes on $n$ samples, where $y_k = (y_{k1},y_{k2})$\n",
    "represent the two gene expressions for sample $k$. There are four different groups of samples: each group-1\n",
    "sample contains cells of cell type A (say adipose cells), each group 2 sample contains cells of cell type B (say\n",
    "blood vessel cells), each group 3 sample contain cells from tissue type C which is a 50%-50% mixture of type\n",
    "A and type B cells, each group 4 sample contain cells from tissue type D which is also a mixture of type A\n",
    "and type B cells but the mixing proportion $\\tau$ is unknown. The group labels for all samples are known and\n",
    "are denoted by $(t_1,t_2,...,t_n)$. For example, $t_9 = 2$ if sample 9 is in group 2.\n",
    "\n",
    "We assume that for each gene the mean expression (but not the variance) depends on the cell type, and that, given the cell type, the expressions of different genes are independently normally distributed. Specifically, for a given sample $k$,\n",
    "- $Y_1 \\sim N\\left(\\mu, \\sigma^2 I\\right)$ if sample $k$ is from group 1 ($\\mu$ is a 2-vector, $I$ is the 2 by 2 identity matrix)\n",
    "- $Y_2 \\sim N\\left(\\gamma, \\sigma^2 I\\right)$ if sample $k$ is from group 2\n",
    "- $Y_3 \\sim N\\left(0.5 \\mu+0.5 \\gamma, \\sigma^2 I\\right)$ if sample $k$ is from group 3\n",
    "- $Y_4 \\sim N\\left(\\tau \\mu+(1-\\tau) \\gamma, \\sigma^2 I\\right)$ if sample $k$ is from group 4 </br>\n",
    "\n",
    "This model has a 6-dimensional parameter $\\theta=\\left(\\sigma^2, \\tau, \\mu_1, \\mu_2, \\gamma_1, \\gamma_2\\right)$.\n",
    "\n",
    "Let's start by reading the data and plotting it to get an idea of what we're working with."
   ]
  },
  {
   "cell_type": "code",
   "execution_count": 2,
   "id": "7e09ad2b",
   "metadata": {},
   "outputs": [],
   "source": [
    "data = pd.read_csv(\"data.csv\")\n",
    "data = data.drop('Unnamed: 0', axis=1)"
   ]
  },
  {
   "cell_type": "code",
   "execution_count": 3,
   "id": "ab5e9e1e",
   "metadata": {},
   "outputs": [
    {
     "data": {
      "image/png": "[encoded data removed]",
      "text/plain": [
       "<Figure size 576x360 with 1 Axes>"
      ]
     },
     "metadata": {
      "needs_background": "light"
     },
     "output_type": "display_data"
    }
   ],
   "source": [
    "groups = [1,2,3,4]\n",
    "fg = sns.FacetGrid(data, hue='group', hue_order=groups, aspect=1.61)\n",
    "fg.map(plt.scatter, 'X1', 'X2').add_legend();\n",
    "fig = plt.gcf();\n",
    "fig.set_size_inches((8,5));"
   ]
  },
  {
   "cell_type": "markdown",
   "id": "9d138e99",
   "metadata": {},
   "source": [
    "Before implementing any MCMC method, we need the posterior distribution (up to a constant factor) which we will then sample from. The posterior distribution will be proportional to the likelihood times the prior. The priors are given to us as follows: \n",
    "\n",
    "1. Prior for $\\tau$ will be uniform on [0,1]\n",
    "2. Prior for $\\mu, \\gamma$ will be the (improper) uniform prior on the real line\n",
    "3. Prior for $\\sigma^2$ will be proportional to $\\frac{1}{\\sigma^2}$\n",
    "\n",
    "The likelihood is as follows:\n",
    "$$\n",
    "\\begin{align}\n",
    "\\mathcal{L}(y|\\theta) &= \\prod_{k=1}^{n} f_{Y_1}(y_k)^{I_1}f_{Y_2}(y_k)^{I_2}f_{Y_3}(y_k)^{I_3}f_{Y_4}(y_k)^{I_4}\n",
    "\\end{align}\n",
    "$$\n",
    "where $f_{Y_i}$ are the PDFs of samples coming from group $i$ and $I_i$ are the indicators representing if sample $k$ is in group $i$. For example,\n",
    "$$\n",
    "\\begin{align}\n",
    "f_{Y_1}(y_k) = (2 \\pi)^{-1} \\operatorname{det}(\\sigma^2 I)^{-\\frac{1}{2}} \\exp \\left(-\\frac{1}{2}(y_k-\\mu)^{T} (\\sigma^2 I)^{-1}(y_k-\\mu)\\right)\n",
    "\\end{align}\n",
    "$$\n",
    "The following function computes this likelihood."
   ]
  },
  {
   "cell_type": "code",
   "execution_count": 4,
   "id": "d5897d91",
   "metadata": {},
   "outputs": [],
   "source": [
    "def calc_likelihood(theta, y=data):\n",
    "    \n",
    "    sig_sq, tau, mu1, mu2, gam1, gam2 = theta\n",
    "    y1, y2, group = y['X1'], y['X2'], y['group']\n",
    "    num_obs = len(group)\n",
    "    likelihood = 1\n",
    "    \n",
    "    for i in range(num_obs):\n",
    "        \n",
    "        if group[i] == 1:\n",
    "            var = multivariate_normal(mean=[mu1, mu2], cov=[[sig_sq,0], [0,sig_sq]])\n",
    "            likelihood *= var.pdf([y1[i], y2[i]])\n",
    "            \n",
    "        if group[i] == 2:\n",
    "            var = multivariate_normal(mean=[gam1, gam2], cov=[[sig_sq,0], [0,sig_sq]])\n",
    "            likelihood *= var.pdf([y1[i], y2[i]])\n",
    "        \n",
    "        if group[i] == 3:\n",
    "            mean = [0.5*mu1+0.5*gam1, 0.5*mu2+0.5*gam2]\n",
    "            var = multivariate_normal(mean=mean, cov=[[sig_sq,0], [0,sig_sq]])\n",
    "            likelihood *= var.pdf([y1[i], y2[i]])\n",
    "            \n",
    "        if group[i] == 4:\n",
    "            mean = [tau*mu1+(1-tau)*gam1, tau*mu2+(1-tau)*gam2]\n",
    "            var = multivariate_normal(mean=mean, cov=[[sig_sq,0], [0,sig_sq]])\n",
    "            likelihood *= var.pdf([y1[i], y2[i]])\n",
    "    \n",
    "    return likelihood"
   ]
  },
  {
   "cell_type": "markdown",
   "id": "bbaaf277",
   "metadata": {},
   "source": [
    "We can now write a function to compute the posterior density (up to a constant)."
   ]
  },
  {
   "cell_type": "code",
   "execution_count": 5,
   "id": "cc3e0c27",
   "metadata": {},
   "outputs": [],
   "source": [
    "def calc_posterior(theta, y=data):\n",
    "    \n",
    "    prior = 1.0/theta[0]\n",
    "    likelihood = calc_likelihood(theta, y)\n",
    "    posterior = prior*likelihood\n",
    "    \n",
    "    return posterior"
   ]
  },
  {
   "cell_type": "markdown",
   "id": "516be818",
   "metadata": {},
   "source": [
    "To evaluate the performance of our MCMC sampling algorithms, we write a central function to which we feed the genereated samples and it gives us several metrics evaluated on those samples. The following are these auxillary functions to check the estimates once they've been generated by any of the MCMC algorithms. \n",
    "\n",
    "The first function gives us the values of a few metrics empirically calculated using the data. These can be considered as the MLEs for the various parameters. We use these parameters to find mea statistics for the 4 groups.\n",
    "\n",
    "The second function takes in the samples generated from any sampling algorithm and plots histograms, calculates mean statistics and also gives us the auto-correlation within the samples (an important statistic since it tells us the Markov nature of the MCMC methods)."
   ]
  },
  {
   "cell_type": "code",
   "execution_count": 6,
   "id": "fc30fe81",
   "metadata": {},
   "outputs": [],
   "source": [
    "def actual_estimates(y=data):\n",
    "    \n",
    "    np.set_printoptions(precision=3)\n",
    "    \n",
    "    y1, y2, group = y['X1'], y['X2'], y['group']\n",
    "    num_obs = len(group)\n",
    "    mu1, mu2, gam1, gam2, g3_1, g3_2, g4_1, g4_2 = 0, 0, 0, 0, 0, 0, 0, 0 # g4 is the mean of group 4\n",
    "    c1, c2, c3, c4 = 0, 0, 0, 0 # counters\n",
    "    \n",
    "    for i in range(num_obs):\n",
    "        \n",
    "        if group[i] == 1:\n",
    "            mu1 += y1[i]\n",
    "            mu2 += y2[i]\n",
    "            c1 += 1\n",
    "            \n",
    "        if group[i] == 2:\n",
    "            gam1 += y1[i]\n",
    "            gam2 += y2[i]\n",
    "            c2 += 1\n",
    "            \n",
    "        if group[i] == 3:\n",
    "            g3_1 += y1[i]\n",
    "            g3_2 += y2[i]\n",
    "            c3 += 1\n",
    "        \n",
    "        if group[i] == 4:\n",
    "            g4_1 += y1[i]\n",
    "            g4_2 += y2[i]\n",
    "            c4 += 1\n",
    "    \n",
    "    print(\"\\nFor reference:\")\n",
    "    print(\"The actual mean of group 1 is ({}, {})\".format(round(mu1/c1, 3), round(mu2/c1, 3)))\n",
    "    print(\"The actual mean of group 2 is ({}, {})\".format(round(gam1/c2, 3), round(gam2/c2, 3)))\n",
    "    print(\"The actual mean of group 3 is ({}, {})\".format(round(g3_1/c3, 3), round(g3_2/c3, 3)))\n",
    "    print(\"The actual mean of group 4 is ({}, {})\".format(round(g4_1/c4, 3), round(g4_2/c4, 3)))"
   ]
  },
  {
   "cell_type": "code",
   "execution_count": 7,
   "id": "ddca6068",
   "metadata": {},
   "outputs": [],
   "source": [
    "def check_estimates(samples, y=data):\n",
    "    \n",
    "    parameters = [\"sigma_sq\", \"tau\", \"mu_1\", \"mu_2\", \"gamma_1\", \"gamma_2\"]\n",
    "    means = {}\n",
    "    \n",
    "    for i in range(6):\n",
    "        means[parameters[i]] = np.mean([sample[i] for sample in samples])\n",
    "    \n",
    "    for i in range(6):\n",
    "        print(\"The mean estimate for {} is {}\".format(parameters[i], round(means[parameters[i]], 3)))\n",
    "        \n",
    "    means_g3_1 = 0.5*means[\"mu_1\"]+0.5*means[\"gamma_1\"]\n",
    "    means_g3_2 = 0.5*means[\"mu_2\"]+0.5*means[\"gamma_2\"]\n",
    "    means_g4_1 = means[\"tau\"]*means[\"mu_1\"]+(1-means[\"tau\"])*means[\"gamma_1\"]\n",
    "    means_g4_2 = means[\"tau\"]*means[\"mu_2\"]+(1-means[\"tau\"])*means[\"gamma_2\"]\n",
    "    \n",
    "    fig = plt.figure(constrained_layout=True)\n",
    "    gs = fig.add_gridspec(2, 3)\n",
    "\n",
    "    f_ax1 = fig.add_subplot(gs[0, 0])\n",
    "    f_ax1.hist([sample[0] for sample in samples], bins=50, facecolor = '#2ab0ff', \\\n",
    "               edgecolor='#169acf', linewidth=0.5, density=True)\n",
    "    f_ax1.set_title('sigma_sq');\n",
    "    \n",
    "    f_ax2 = fig.add_subplot(gs[0, 1])\n",
    "    f_ax2.hist([sample[2] for sample in samples], bins=50, facecolor = '#2ab0ff', \\\n",
    "               edgecolor='#169acf', linewidth=0.5, density=True)\n",
    "    f_ax2.set_title('mu_1');\n",
    "    \n",
    "    f_ax3 = fig.add_subplot(gs[1, 0])\n",
    "    f_ax3.hist([sample[1] for sample in samples], bins=50, facecolor = '#2ab0ff', \\\n",
    "               edgecolor='#169acf', linewidth=0.5, density=True)\n",
    "    f_ax3.set_title('tau');\n",
    "    \n",
    "    f_ax4 = fig.add_subplot(gs[1, 1])\n",
    "    f_ax4.hist([sample[3] for sample in samples], bins=50, facecolor = '#2ab0ff', \\\n",
    "               edgecolor='#169acf', linewidth=0.5, density=True)\n",
    "    f_ax4.set_title('mu_2');\n",
    "    \n",
    "    f_ax3 = fig.add_subplot(gs[0, 2])\n",
    "    f_ax3.hist([sample[4] for sample in samples], bins=50, facecolor = '#2ab0ff', \\\n",
    "               edgecolor='#169acf', linewidth=0.5, density=True)\n",
    "    f_ax3.set_title('gamma_1');\n",
    "    \n",
    "    f_ax3 = fig.add_subplot(gs[1, 2])\n",
    "    f_ax3.hist([sample[5] for sample in samples], bins=50, facecolor = '#2ab0ff', \\\n",
    "               edgecolor='#169acf', linewidth=0.5, density=True)\n",
    "    f_ax3.set_title('gamma_2');\n",
    "    \n",
    "    img = plt.gcf()\n",
    "    img.set_size_inches((14,7));\n",
    "    plt.show();\n",
    "    \n",
    "    print(\"\\nUsing these estimates, we get the following:\")\n",
    "    print(\"The mean of group 1 is ({}, {})\".format(round(means[\"mu_1\"], 3), round(means[\"mu_2\"], 3)))\n",
    "    print(\"The mean of group 2 is ({}, {})\".format(round(means[\"gamma_1\"], 3), round(means[\"gamma_2\"], 3)))\n",
    "    print(\"The mean of group 3 is ({}, {})\".format(round(means_g3_1, 3), round(means_g3_2, 3)))\n",
    "    print(\"The mean of group 4 is ({}, {})\".format(round(means_g4_1, 3), round(means_g4_2, 3)))\n",
    "    \n",
    "    actual_estimates()\n",
    "    \n",
    "    print(\"\\nWe also look at the correlation at lag 1 to see the Markov nature of the process.\")\n",
    "    for i in range(6):\n",
    "        print(\"The Pearson correlation for {} is \".format(parameters[i]), end='')\n",
    "        print(round(stats.pearsonr([s[i] for s in samples][1:], [s[i] for s in samples][:-1])[0], 3))"
   ]
  },
  {
   "cell_type": "markdown",
   "id": "92498958",
   "metadata": {},
   "source": [
    "Now we're ready to implement MCMC methods. We start with the most famous MCMC algorithm - Metropolis Hastings."
   ]
  },
  {
   "cell_type": "markdown",
   "id": "f3bf9061",
   "metadata": {},
   "source": [
    "## 1. Metropolis-Hastings "
   ]
  },
  {
   "cell_type": "markdown",
   "id": "0fecd923",
   "metadata": {},
   "source": [
    "In MH, we start with an initial guess and generate samples using the previous sample (Markov property). This Markov Chain eventually converges to a stationary distribution equal to the distribution we want to sample from after a burn-in period. The samples are accepted or rejected using the MH ratio. For each of the six parameters, we use the transition kernel $q(x_{t+1}|x_t) = N(x_t, \\sigma_w^2)$. This means our next draw for any parameter is a normal distribution centered at the previous draw. Note that $\\sigma_w^2$ is essentially the jump size for any parameter. We can experiment with different values of $\\sigma_w^2$ to find the best jump size. Another thing to note is that since we are using a normal kernel, it is symmetric and hence this is simply the Metrolopolis algorithm. </br>\n",
    "\n",
    "The initial guesses for the parameters are based on the mean values of the priors and the inital guess for $\\sigma^2$ is 1. One way of constraining the values of $\\sigma^2$ and $\\tau$ is by redefining them to their initial guess every time they go out of bound. We do that here. We can also use a truncated normal to constraint the values of $\\sigma^2$ and $\\tau$."
   ]
  },
  {
   "cell_type": "code",
   "execution_count": 8,
   "id": "eeff2c05",
   "metadata": {},
   "outputs": [],
   "source": [
    "np.random.seed(2)\n",
    "def metropolis(initial, num_iters, sigw): # takes the stddev, not the variance\n",
    "    \n",
    "    samples = [initial]\n",
    "    num_accept = 0\n",
    "    \n",
    "    for _ in tqdm(range(num_iters), desc = 'Progress Bar'):\n",
    "        \n",
    "        candidate = [parameter + np.random.normal(0, sigw) for parameter in samples[-1]]\n",
    "        if candidate[0]<=0: # constraining the value for sig_sq\n",
    "            candidate[0] = 1\n",
    "        if candidate[1]<0 or candidate[1]>1: # constraining the value for tau\n",
    "            candidate[1] = 0.5\n",
    "\n",
    "        accept_prob = min(1, calc_posterior(candidate)/calc_posterior(samples[-1]))\n",
    "        \n",
    "        if np.random.random() < accept_prob:\n",
    "            samples.append(candidate)\n",
    "            num_accept += 1\n",
    "        else:\n",
    "            samples.append(samples[-1])\n",
    "            \n",
    "    return samples, num_accept/num_iters"
   ]
  },
  {
   "cell_type": "markdown",
   "id": "84035804",
   "metadata": {},
   "source": [
    "Let's run the Metropolis algorithm on our data and check the estimates."
   ]
  },
  {
   "cell_type": "code",
   "execution_count": 9,
   "id": "9dc54ba7",
   "metadata": {},
   "outputs": [
    {
     "name": "stderr",
     "output_type": "stream",
     "text": [
      "Progress Bar: 100%|████████████████████| 100000/100000 [08:56<00:00, 186.47it/s]"
     ]
    },
    {
     "name": "stdout",
     "output_type": "stream",
     "text": [
      "The efficiency of the MH run is 0.18969\n"
     ]
    },
    {
     "name": "stderr",
     "output_type": "stream",
     "text": [
      "\n"
     ]
    }
   ],
   "source": [
    "np.random.seed(2)\n",
    "num_iters = int(1e5)\n",
    "burn_in = num_iters//100\n",
    "initial = [1, 0.5, 0, 0, 0, 0]\n",
    "samples_mh, efficiency = metropolis(initial, num_iters, sigw=0.08)\n",
    "samples_mh = samples_mh[burn_in:]\n",
    "print(\"The efficiency of the MH run is {}\".format(efficiency))"
   ]
  },
  {
   "cell_type": "code",
   "execution_count": 10,
   "id": "1bad858a",
   "metadata": {},
   "outputs": [
    {
     "name": "stdout",
     "output_type": "stream",
     "text": [
      "The mean estimate for sigma_sq is 0.128\n",
      "The mean estimate for tau is 0.856\n",
      "The mean estimate for mu_1 is -1.433\n",
      "The mean estimate for mu_2 is -0.662\n",
      "The mean estimate for gamma_1 is -0.275\n",
      "The mean estimate for gamma_2 is 0.319\n"
     ]
    },
    {
     "data": {
      "image/png": "[encoded data removed]",
      "text/plain": [
       "<Figure size 1008x504 with 6 Axes>"
      ]
     },
     "metadata": {
      "needs_background": "light"
     },
     "output_type": "display_data"
    },
    {
     "name": "stdout",
     "output_type": "stream",
     "text": [
      "\n",
      "Using these estimates, we get the following:\n",
      "The mean of group 1 is (-1.433, -0.662)\n",
      "The mean of group 2 is (-0.275, 0.319)\n",
      "The mean of group 3 is (-0.854, -0.172)\n",
      "The mean of group 4 is (-1.267, -0.521)\n",
      "\n",
      "For reference:\n",
      "The actual mean of group 1 is (-1.403, -0.423)\n",
      "The actual mean of group 2 is (-0.196, 0.471)\n",
      "The actual mean of group 3 is (-0.919, -0.289)\n",
      "The actual mean of group 4 is (-1.25, -0.594)\n",
      "\n",
      "We also look at the correlation at lag 1 to see the Markov nature of the process.\n",
      "The Pearson correlation for sigma_sq is 0.827\n",
      "The Pearson correlation for tau is 0.947\n",
      "The Pearson correlation for mu_1 is 0.969\n",
      "The Pearson correlation for mu_2 is 0.965\n",
      "The Pearson correlation for gamma_1 is 0.977\n",
      "The Pearson correlation for gamma_2 is 0.977\n"
     ]
    }
   ],
   "source": [
    "check_estimates(samples_mh, data)"
   ]
  },
  {
   "cell_type": "markdown",
   "id": "4de5d6ea",
   "metadata": {},
   "source": [
    "Notice that our estimates using the MH algorithm are fairly close to the actual values (means calculated from the data), but there is still room for improvement. This might be indicative of the poor performance of MH in higher dimensions.\n",
    "\n",
    "Another thing to note is that the correlation values for each of the parameter estimates are pretty high, showing the Markov property of the process."
   ]
  },
  {
   "cell_type": "markdown",
   "id": "d7bb5a7a",
   "metadata": {},
   "source": [
    "### Hyperparameter Tuning\n",
    "Now we change the values of our jump parameter to find the best jump. We use $\\mu_1$ and $\\gamma_2$ as two random parameters to check the accuracy of our estimation."
   ]
  },
  {
   "cell_type": "code",
   "execution_count": 11,
   "id": "fb3276f5",
   "metadata": {},
   "outputs": [
    {
     "name": "stderr",
     "output_type": "stream",
     "text": [
      "Progress Bar: 100%|██████████████████████| 10000/10000 [00:53<00:00, 186.17it/s]\n",
      "Progress Bar: 100%|██████████████████████| 10000/10000 [00:53<00:00, 186.13it/s]\n",
      "Progress Bar: 100%|██████████████████████| 10000/10000 [00:53<00:00, 186.18it/s]\n",
      "Progress Bar: 100%|██████████████████████| 10000/10000 [00:53<00:00, 186.33it/s]\n",
      "Progress Bar: 100%|██████████████████████| 10000/10000 [00:53<00:00, 186.11it/s]\n",
      "Progress Bar: 100%|██████████████████████| 10000/10000 [00:53<00:00, 186.14it/s]\n",
      "Progress Bar: 100%|██████████████████████| 10000/10000 [00:53<00:00, 186.05it/s]\n",
      "Progress Bar: 100%|██████████████████████| 10000/10000 [00:53<00:00, 186.00it/s]\n"
     ]
    },
    {
     "data": {
      "image/png": "[encoded data removed]",
      "text/plain": [
       "<Figure size 864x288 with 2 Axes>"
      ]
     },
     "metadata": {
      "needs_background": "light"
     },
     "output_type": "display_data"
    }
   ],
   "source": [
    "np.random.seed(2)\n",
    "values = {\"mu_1\":[], \"gamma_2\":[]}\n",
    "\n",
    "for sigw in np.arange(0.04, 0.33, 0.04):\n",
    "    means = []\n",
    "    samples_mh, _ = metropolis(initial, num_iters=int(1e4), sigw=sigw)\n",
    "    values[\"mu_1\"].append(np.mean([sample[2] for sample in samples_mh]))\n",
    "    values[\"gamma_2\"].append(np.mean([sample[5] for sample in samples_mh]))\n",
    "    \n",
    "fig = plt.figure(constrained_layout=True)\n",
    "gs = fig.add_gridspec(1, 2)\n",
    "\n",
    "f_ax1 = fig.add_subplot(gs[0, 0])\n",
    "f_ax1.scatter(x=np.arange(0.04, 0.33, 0.04), y=values[\"mu_1\"])\n",
    "f_ax1.axhline(-1.4033, color ='0', lw = 2) # actual value\n",
    "f_ax1.set_xlabel('sigma_w');\n",
    "f_ax1.set_title('mu_1');\n",
    "\n",
    "f_ax2 = fig.add_subplot(gs[0, 1])\n",
    "f_ax2.scatter(x=np.arange(0.04, 0.33, 0.04), y=values[\"gamma_2\"])\n",
    "f_ax2.axhline(0.4705, color ='0', lw = 2) # actual value\n",
    "f_ax1.set_xlabel('sigma_w');\n",
    "f_ax2.set_title('gamma_2');\n",
    "\n",
    "img = plt.gcf()\n",
    "img.set_size_inches((12,4));\n",
    "plt.show();"
   ]
  },
  {
   "cell_type": "markdown",
   "id": "885d6aff",
   "metadata": {},
   "source": [
    "The black line in the plots above show the actual value of the mean using the data (empirical mean). We can see here that the MH algorithm with our initial conditions, while always close to the true value, can still be improved since it is likely to get stuck at a point. Another interesting observation is the systematic tendency for underestimating the parameter values. This can again be explained by the nature of the algorithm: once it's found an accepted sample, it doesn't accept another sample point till the density at that sample point is relatively higher, so the samples tend to be similar.\n",
    "</br>\n",
    "\n",
    "Next, we move to Hamiltonian Monte Carlo."
   ]
  },
  {
   "cell_type": "markdown",
   "id": "541131c8",
   "metadata": {},
   "source": [
    "## 2. Hamiltonian Monte-Carlo"
   ]
  },
  {
   "cell_type": "markdown",
   "id": "926758f2",
   "metadata": {},
   "source": [
    "In HMC, we usa an analogy from statistical mechanics where we have a particle whose energy (the Hamiltonian $H$) is conserved. The total energy $H$ is defined as the sum of two components $U(q)$ and $K(p)$ where $U$ is the potential energy in terms of the parameters $q$ and we introduce the kinetic energy term $K$ in terms of the momentum $p$.\n",
    "$$\n",
    "H(q, p) = U(q) + K(p)\n",
    "$$\n",
    "The probability of the particle having energy $H$ turns out to be proportional to $e^{-\\frac{H}{T}}$ where $T$ is the temperature which is chosen to be $1$ when we want to sample straight from the posterior and not a skewed version of it.\n",
    "\n",
    "It is convenient to define the posterior density $\\pi(q)$ (which is our target density) as being proportional to $e^{-U(q)}$. Hence $U(q) = -\\log \\pi(q)$. Let's define functions for the same. For the four different groups, the negative log density (NLD) is different. Separating them out vastly saves computation time. For example, for group 1, the posterior density is the prior times the likelihood $\\mathcal{L}$ defined above. However, only $I_1$ is $1$ while the other indicators are $0$. So taking the log and using the indicators, we get that the NLD is\n",
    "$$\n",
    "\\begin{align}\n",
    "NLD_1 &= \\log\\sigma^2 + \\sum[\\log\\sigma^2 + \\frac{1}{2}\\left((y_k-\\mu)^{T} (\\sigma^2 I)^{-1}(y_k-\\mu)\\right)]\\\\\n",
    "&= \\log\\sigma^2 + \\sum[\\log\\sigma^2 + \\frac{1}{2}(\\frac{{(y_{k1}-\\mu_1)}^2}{\\sigma^2}+\\frac{{(y_{k2}-\\mu_2)}^2}{\\sigma^2})]\n",
    "\\end{align}\n",
    "$$\n",
    "We can calculate the other NLDs similarly by changing the mean."
   ]
  },
  {
   "cell_type": "code",
   "execution_count": 8,
   "id": "1a735838",
   "metadata": {},
   "outputs": [],
   "source": [
    "def nld_1(sig_sq, tau, mu1, mu2, gam1, gam2, y): # negative log density for group 1\n",
    "    \n",
    "    term1 = 2*np.log(sig_sq)\n",
    "    term2 = 0\n",
    "    mu = np.array([mu1, mu2])\n",
    "    cov_inv = np.array([[1/sig_sq,0], [0,1/sig_sq]])\n",
    "    \n",
    "    for i in range(len(y[0])):\n",
    "        \n",
    "        y1, y2 = y[0][i], y[1][i]\n",
    "        term2 += np.log(sig_sq) + 0.5*((y1-mu1)**2/sig_sq + (y2-mu2)**2/sig_sq)\n",
    "        \n",
    "    return term1 + term2\n",
    "\n",
    "def nld_2(sig_sq, tau, mu1, mu2, gam1, gam2, y): # negative log density for group 2\n",
    "    \n",
    "    term1 = 2*np.log(sig_sq)\n",
    "    term2 = 0\n",
    "    mu = np.array([gam1, gam2])\n",
    "    cov_inv = np.array([[1/sig_sq,0], [0,1/sig_sq]])\n",
    "    \n",
    "    for i in range(len(y[0])):\n",
    "        \n",
    "        y1, y2 = y[0][i], y[1][i]\n",
    "        term2 += np.log(sig_sq) + 0.5*((y1-mu1)**2/sig_sq + (y2-mu2)**2/sig_sq)\n",
    "        \n",
    "    return term1 + term2\n",
    "\n",
    "def nld_3(sig_sq, tau, mu1, mu2, gam1, gam2, y): # negative log density for group 3\n",
    "    \n",
    "    term1 = 2*np.log(sig_sq)\n",
    "    term2 = 0\n",
    "    mu = np.array([0.5*mu1+0.5*gam1, 0.5*mu2+0.5*gam2])\n",
    "    cov_inv = np.array([[1/sig_sq,0], [0,1/sig_sq]])\n",
    "    \n",
    "    for i in range(len(y[0])):\n",
    "        \n",
    "        y1, y2 = y[0][i], y[1][i]\n",
    "        term2 += np.log(sig_sq) + 0.5*((y1-mu1)**2/sig_sq + (y2-mu2)**2/sig_sq)\n",
    "        \n",
    "    return term1 + term2\n",
    "\n",
    "def nld_4(sig_sq, tau, mu1, mu2, gam1, gam2, y): # negative log density for group 4\n",
    "    \n",
    "    term1 = 2*np.log(sig_sq)\n",
    "    term2 = 0\n",
    "    mu = np.array([tau*mu1+(1-tau)*gam1, tau*mu2+(1-tau)*gam2])\n",
    "    print(mu)\n",
    "    cov_inv = np.array([[1/sig_sq,0], [0,1/sig_sq]])\n",
    "    \n",
    "    for i in range(len(y[0])):\n",
    "        \n",
    "        y1, y2 = y[0][i], y[1][i]\n",
    "        term2 += np.log(sig_sq) + 0.5*((y1-mu1)**2/sig_sq + (y2-mu2)**2/sig_sq)\n",
    "        \n",
    "    return term1 + term2"
   ]
  },
  {
   "cell_type": "markdown",
   "id": "a05405e5",
   "metadata": {},
   "source": [
    "From physics, we know that $K(p) = \\frac{p^2}{2m}$ where $m$ is the mass. Putting it together, the probability of the particle having energy $H$ is porportional to $\\pi(q)e^{-\\frac{p^2}{2m}}$.\n",
    "\n",
    "Since we model the momentum and position as being independent terms, the second term in the above proportionality must represent the distribution of the momentum $p$ which clearly follows a standard normal distribution when we choose the mass to be $1$. This means that we can generate random samples from $N(0, 1)$ to generate new values for $p$. We can choose different values of mass $m$ which will result in the $N(0, m)$ distribution.\n",
    "\n",
    "To update the values for $q$ and $p$, we use the leapfrog integrator, which requires the gradient values for the potential energy $U$ with respect to every parameter. Let's define a function to calculate that first (we use the incredible autograd for it). Note: we ignore $\\sigma^2$ in our treatment in HMC since the gradient with respect to $\\sigma^2$ is very complex and autograd behaves funny. An attempt was made to manually code in the gradient as well but that seemed to blow up the estimates (NaNs everywhere)."
   ]
  },
  {
   "cell_type": "code",
   "execution_count": 9,
   "id": "1f9ba195",
   "metadata": {},
   "outputs": [],
   "source": [
    "def gradient(theta, y=data):\n",
    "    \n",
    "    gradients = [0.] # gradient wrt to sig_sq\n",
    "    \n",
    "    for i in range(1, 6):\n",
    "        \n",
    "        gradient = 0\n",
    "            \n",
    "        grad_func_1 = grad(nld_1, i);\n",
    "        y1 = data[data['group']==1]['X1'].tolist()\n",
    "        y2 = data[data['group']==1]['X2'].tolist()\n",
    "        g = grad_func_1(theta[0], theta[1], theta[2], theta[3], theta[4], theta[5], [y1, y2]);\n",
    "        gradient += g;\n",
    "        \n",
    "        grad_func_2 = grad(nld_2, i);\n",
    "        y1 = data[data['group']==2]['X1'].tolist()\n",
    "        y2 = data[data['group']==2]['X2'].tolist()\n",
    "        g = grad_func_2(theta[0], theta[1], theta[2], theta[3], theta[4], theta[5], [y1, y2]);\n",
    "        gradient += g;\n",
    "        \n",
    "        grad_func_3 = grad(nld_3, i);\n",
    "        y1 = data[data['group']==3]['X1'].tolist()\n",
    "        y2 = data[data['group']==3]['X2'].tolist()\n",
    "        g = grad_func_3(theta[0], theta[1], theta[2], theta[3], theta[4], theta[5], [y1, y2]);\n",
    "        gradient += g;\n",
    "        \n",
    "        grad_func_4 = grad(nld_4, i);\n",
    "        y1 = data[data['group']==4]['X1'].tolist()\n",
    "        y2 = data[data['group']==4]['X2'].tolist()\n",
    "        g = grad_func_4(theta[0], theta[1], theta[2], theta[3], theta[4], theta[5], [y1, y2]);\n",
    "        gradient += g;\n",
    "            \n",
    "        gradients.append(gradient)\n",
    "        \n",
    "    return gradients"
   ]
  },
  {
   "cell_type": "markdown",
   "id": "53257074",
   "metadata": {},
   "source": [
    "Now we can write the actual HMC function, using the leapfrog integrator and the MH acceptance ratio. The ratio is given by \n",
    "$$\n",
    "\\begin{align}\n",
    "r &= \\frac{e^{-U(q_1)-K(p_1)}}{e^{-U(q_0)-K(p_0)}}\\\\\n",
    "&= \\frac{\\pi(q_1)e^{-K(p_1)}}{\\pi(q_0)e^{-K(p_0)}}\\\\\n",
    "&= \\frac{\\pi(q_1)e^{-\\frac{p_1^2}{2}}}{\\pi(q_0)e^{-\\frac{p_0^2}{2}}}\n",
    "\\end{align}\n",
    "$$\n",
    "Then we take $min(1, r)$."
   ]
  },
  {
   "cell_type": "code",
   "execution_count": 10,
   "id": "0c97f2e1",
   "metadata": {},
   "outputs": [],
   "source": [
    "np.random.seed(2)\n",
    "def HMC(initial, num_iters, m=1, epsilon=0.02, length=0.05):\n",
    "    \n",
    "    samples = [np.array(initial)]\n",
    "    num_steps = int(length/epsilon)\n",
    "    num_accept = 0\n",
    "    \n",
    "    for i in tqdm(range(num_iters)):\n",
    "        \n",
    "        if i%100==0:\n",
    "            print(\"Iteration number \", i)\n",
    "        \n",
    "        q0 = np.copy(samples[-1])\n",
    "        q1 = np.copy(q0)\n",
    "        p0 = np.random.normal(0, m, size=5)\n",
    "        p0 = np.insert(p0, 0, 0., axis=0)\n",
    "        p1 = np.copy(p0)\n",
    "        U_grad = np.asarray(gradient(q0))\n",
    "        \n",
    "        for _ in range(num_steps): # leapfrog integrator\n",
    "            \n",
    "            p1 -= epsilon*U_grad*0.5 # half-step\n",
    "            q1 += epsilon*p1*0.5\n",
    "            p1 -= epsilon*U_grad*0.5 # second half-step \n",
    "            \n",
    "        p1 = -1*p1 \n",
    "        \n",
    "        q0_nld = calc_posterior(q0)\n",
    "        q1_nld = calc_posterior(q1) \n",
    "\n",
    "        p0_nld = np.exp(-0.5*(sum([p*p for p in p0])))\n",
    "        p1_nld = np.exp(-0.5*(sum([p*p for p in p1])))\n",
    "        \n",
    "        r = (q1_nld*p1_nld)/(q0_nld*p0_nld)\n",
    "        \n",
    "        accept_prob = min(1, r)\n",
    "        \n",
    "        if np.random.random() < accept_prob:\n",
    "            samples.append(q1)\n",
    "            num_accept += 1\n",
    "        else:\n",
    "            samples.append(q0)\n",
    "            \n",
    "    return samples, num_accept/num_iters"
   ]
  },
  {
   "cell_type": "markdown",
   "id": "36840488",
   "metadata": {},
   "source": [
    "Let's run the HMC algorithm on our data and check the estimates."
   ]
  },
  {
   "cell_type": "code",
   "execution_count": 11,
   "id": "a9fd9346",
   "metadata": {},
   "outputs": [],
   "source": [
    "%%capture\n",
    "np.random.seed(2)\n",
    "num_iters = int(1e5)\n",
    "burn_in = int(1e3)\n",
    "\n",
    "initial = [0.4, 0.5, 0., 0., 0., 0.]\n",
    "samples_hmc, efficiency = HMC(initial, num_iters);\n",
    "samples_hmc = samples_hmc[burn_in:]"
   ]
  },
  {
   "cell_type": "code",
   "execution_count": 12,
   "id": "868425b1",
   "metadata": {},
   "outputs": [
    {
     "name": "stdout",
     "output_type": "stream",
     "text": [
      "The efficiency of the HMC run is 0.44317\n"
     ]
    }
   ],
   "source": [
    "print(\"The efficiency of the HMC run is {}\".format(efficiency))"
   ]
  },
  {
   "cell_type": "code",
   "execution_count": 13,
   "id": "fc10395b",
   "metadata": {},
   "outputs": [
    {
     "name": "stdout",
     "output_type": "stream",
     "text": [
      "The mean estimate for sigma_sq is 0.4\n",
      "The mean estimate for tau is 0.869\n",
      "The mean estimate for mu_1 is -1.488\n",
      "The mean estimate for mu_2 is -0.666\n",
      "The mean estimate for gamma_1 is -0.325\n",
      "The mean estimate for gamma_2 is 0.269\n"
     ]
    },
    {
     "data": {
      "image/png": "[encoded data removed]",
      "text/plain": [
       "<Figure size 1008x504 with 6 Axes>"
      ]
     },
     "metadata": {
      "needs_background": "light"
     },
     "output_type": "display_data"
    },
    {
     "name": "stdout",
     "output_type": "stream",
     "text": [
      "\n",
      "Using these estimates, we get the following:\n",
      "The mean of group 1 is (-1.488, -0.666)\n",
      "The mean of group 2 is (-0.325, 0.269)\n",
      "The mean of group 3 is (-0.906, -0.199)\n",
      "The mean of group 4 is (-1.335, -0.544)\n",
      "\n",
      "For reference:\n",
      "The actual mean of group 1 is (-1.403, -0.423)\n",
      "The actual mean of group 2 is (-0.196, 0.471)\n",
      "The actual mean of group 3 is (-0.919, -0.289)\n",
      "The actual mean of group 4 is (-1.25, -0.594)\n",
      "\n",
      "We also look at the correlation at lag 1 to see the Markov nature of the process.\n",
      "The Pearson correlation for sigma_sq is nan\n",
      "The Pearson correlation for tau is 0.999\n",
      "The Pearson correlation for mu_1 is 0.999\n",
      "The Pearson correlation for mu_2 is 0.999\n",
      "The Pearson correlation for gamma_1 is "
     ]
    },
    {
     "name": "stderr",
     "output_type": "stream",
     "text": [
      "/Users/aajeyajajoo/opt/miniconda3/envs/stats315a/lib/python3.9/site-packages/scipy/stats/_stats_py.py:4068: PearsonRConstantInputWarning: An input array is constant; the correlation coefficient is not defined.\n",
      "  warnings.warn(PearsonRConstantInputWarning())\n"
     ]
    },
    {
     "name": "stdout",
     "output_type": "stream",
     "text": [
      "0.999\n",
      "The Pearson correlation for gamma_2 is 0.999\n"
     ]
    }
   ],
   "source": [
    "check_estimates(samples_hmc, data)"
   ]
  },
  {
   "cell_type": "markdown",
   "id": "db9c4e66",
   "metadata": {},
   "source": [
    "First thing to notice, the correlation values are pretty high for all the variables, as expected in a MCMC method.  Note that there is no correlation for $\\sigma^2$ since we do not treat it as a parameter in HMC as mentioned above. The values of the means are pretty close to the actual values and are comparable to the estimates from MH. The correlation values are very high due to the small value of $\\epsilon$. Since the step size is so small, the new sample generated is close to the old sample resulting in high correlation.\n",
    "\n",
    "Another point worth noticing is that the algorithm is very sensitive to the value of $\\epsilon$ and a small change can result in large deviations from the mean values. For our implementation, small values of $\\epsilon$ seem to work best resulting in small changes in estimate values at every iteration. To check for sensitivity to $\\epsilon$, we use hyperparameter tuning to find the best value. Our criterion to measure the best value is the efficiency of every run, since it results in the most number of samples generated."
   ]
  },
  {
   "cell_type": "markdown",
   "id": "8613c25e",
   "metadata": {},
   "source": [
    "### Hyperparameter Tuning"
   ]
  },
  {
   "cell_type": "code",
   "execution_count": 14,
   "id": "3a3626e5",
   "metadata": {},
   "outputs": [],
   "source": [
    "%%capture\n",
    "effics = []\n",
    "for e in np.arange(0.001, 0.04, 0.003):\n",
    "    _, efficiency = HMC(initial, num_iters=int(1e4), epsilon=e);\n",
    "    effics.append(efficiency)"
   ]
  },
  {
   "cell_type": "code",
   "execution_count": 15,
   "id": "2df0cb50",
   "metadata": {},
   "outputs": [
    {
     "data": {
      "image/png": "[encoded data removed]",
      "text/plain": [
       "<Figure size 576x360 with 1 Axes>"
      ]
     },
     "metadata": {
      "needs_background": "light"
     },
     "output_type": "display_data"
    }
   ],
   "source": [
    "plt.plot(np.arange(0.001, 0.04, 0.003), effics);\n",
    "plt.xlabel(\"epsilon\")\n",
    "plt.ylabel(\"efficiency\")\n",
    "fig = plt.gcf();\n",
    "fig.set_size_inches((8,5));"
   ]
  },
  {
   "cell_type": "markdown",
   "id": "8ce17c24",
   "metadata": {},
   "source": [
    "We can see that the efficiency is highest around $\\epsilon = 0.01$ and this is the value we pick to run our HMC algorithm.\n",
    "\n",
    "Next, we move onto another MCMC method, Gibbs Sampling."
   ]
  },
  {
   "cell_type": "markdown",
   "id": "3976a2f4",
   "metadata": {},
   "source": [
    "## 3. Gibbs Sampling"
   ]
  },
  {
   "cell_type": "markdown",
   "id": "ebdf7818",
   "metadata": {},
   "source": [
    "For Gibbs Sampling, we require the marginal distributions of every parameter assuming the other parameters are given. Using this, we can generate random draws from the marginals of the parameters turn by turn using the information of the previous draws when drawing from the later draws. Let's first derive the marginals for our parameters. We will perform a blocked version of Gibbs Sampling where we will treat $\\mu_1$ and $\\mu_2$ as one parameter $\\mu$, and the same goes for $\\gamma$. Hence, in total we have four parameters - $\\sigma^2, \\tau, \\mu$ and $\\gamma$.\n",
    "\n",
    "To derive the marginals, we use the trick that the marginals are simply proportional to the posterior density with the relevant terms being only those that contain the parameter we are finding the marginal for (as suggested in [this](https://www.youtube.com/watch?v=9e4uqODjooo&t=449s) excellent video).\n",
    "\n",
    "(Note: in each of these derivations, the $\\nu_i$ term stands for the mean of the distribution of samples coming from group $i$, so, for example, $y_k - \\nu_i$ for a sample $k$ coming from group $2$ would have $\\nu_i =\\gamma$. Also, with a bit of abuse of notation, whenever a summation appears over any group i.e. with index $i$, the sum is assumed to be over all elements $k$ in the group. So, for example, $\\sum_{i=1}y_k$ means the sum of $y$ values for all entries from group $1$.)\n"
   ]
  },
  {
   "cell_type": "markdown",
   "id": "2a3089a0",
   "metadata": {},
   "source": [
    "The marginal for $\\sigma^2$ is\n",
    "$$\n",
    "\\begin{aligned}\n",
    "& p\\left(\\sigma^2 \\mid y, \\theta[-\\sigma^2\\right]) \\propto \\frac{1}{\\sigma^2}\\prod_{i=1} N\\left(\\mu, \\sigma^2 I\\right) \\cdot \\prod_{i=2} N\\left(\\gamma, \\sigma^2 I\\right) \\cdot \\prod_{i=3} N\\left(0.5 \\mu+0.5 \\gamma, \\sigma^2 I\\right) \\cdot \\prod_{i=4} N\\left(\\tau \\mu+(1-\\tau) \\gamma, \\sigma^2 I\\right) \\\\\n",
    "& \\propto\\left|\\sigma^2 I\\right|^{-n / 2} \\cdot \\frac{1}{\\sigma^2} \\cdot \\exp \\left(-\\frac{1}{2 \\sigma^2} \\sum_{k=1}^n (y_k - \\nu_i)^{T} I^{-1} (y_k - \\nu_i)\\right) \\\\\n",
    "& \\propto\\left(\\frac{1}{\\sigma^2}\\right)^{n+1} \\cdot \\exp \\left(-\\frac{1}{\\sigma^2} \\cdot \\frac{1}{2} \\sum_{k=1}^n ||y_k - \\nu_i||^2\\right) \\\\\n",
    "& \\text{which is of the form }x^{-\\alpha-1} \\cdot e^{ \\frac{-\\beta}{x}} \\text{ which is an inverse gamma distribution}\\\\\n",
    "& \\therefore \\sigma^2 \\mid y, \\theta\\left[-\\sigma^2\\right] \\sim \\operatorname{InvGamma}(n,\\frac{1}{2}\\sum_{k=1}^n||y_k - \\nu_i||^2) \\\\\n",
    "&\n",
    "\\end{aligned}\n",
    "$$\n",
    "where $i$ is the group sample $k$ belongs to. We now write a function to find the parameters for the input of the inverse-gamma density."
   ]
  },
  {
   "cell_type": "code",
   "execution_count": 8,
   "id": "56e293ac",
   "metadata": {},
   "outputs": [],
   "source": [
    "def calc_params_sig_sq(theta, y=data):\n",
    "    \n",
    "    sig_sq, tau, mu1, mu2, gam1, gam2 = theta\n",
    "    y1, y2, group = y['X1'], y['X2'], y['group']\n",
    "    n1, n2, n3, n4 = len(group[group==1]), len(group[group==2]), len(group[group==3]), len(group[group==4])\n",
    "    num_obs = len(group)\n",
    "    \n",
    "    params = [0, 0]\n",
    "    params[0] = num_obs\n",
    "    \n",
    "    for i in range(num_obs):\n",
    "        \n",
    "        if group[i] == 1:\n",
    "            params[1] += (y1[i]-mu1)**2 + (y2[i]-mu2)**2\n",
    "            \n",
    "        if group[i] == 2:\n",
    "            params[1] += (y1[i]-gam1)**2 + (y2[i]-gam2)**2\n",
    "            \n",
    "        if group[i] == 3:\n",
    "            params[1] += (y1[i]-(0.5*mu1 + 0.5*gam1))**2 + (y2[i]-(0.5*mu2 + 0.5*gam2))**2\n",
    "            \n",
    "        if group[i] == 4:\n",
    "            params[1] += (y1[i]-(tau*mu1 + (1-tau)*gam1))**2 + (y2[i]-(tau*mu2 + (1-tau)*gam2))**2\n",
    "            \n",
    "    params[1] /= 2\n",
    "    \n",
    "    return params"
   ]
  },
  {
   "cell_type": "markdown",
   "id": "2b80a8f5",
   "metadata": {},
   "source": [
    "The maginal for $\\tau$ is (note that $\\tau$ is only in group $4$)\n",
    "\n",
    "$$\n",
    "\\begin{aligned}\n",
    "p(\\tau \\mid y, \\theta[-\\tau]) & \\propto \\exp \\left(-\\frac{1}{2 \\sigma^2} \\sum_{i=4}\\left(y_k-(\\tau \\mu+(1-\\tau) \\gamma)\\right)^T I^{-1}\\left(y_k-(\\tau \\mu+(1-\\tau) \\gamma)\\right)\\right) \\\\\n",
    "& \\propto \\exp \\left(-\\frac{1}{2} \\cdot \\frac{\\|\\gamma-\\mu\\|_2^2}{\\sigma^2} \\sum_{i=4}\\left(\\tau -\\alpha_k\\right)^{T}\\left(\\tau -\\alpha_k\\right)\\right) \\\\\n",
    "& \\alpha \\exp \\left(-\\frac{1}{2} \\cdot \\frac{n_4\\|\\gamma-\\mu\\|_2^2}{\\sigma^2}\\left(\\tau-\\frac{\\sum_{i=4} \\alpha_k}{n_4}\\right)^2\\right)\n",
    "\\end{aligned}\n",
    "$$\n",
    "So, \n",
    "$$\n",
    "\\tau \\mid y, \\theta[-\\tau] \\sim \\text { TruncNormal }\\left(\\frac{\\sum_{i=4} \\alpha_k}{n_4}, \\frac{\\sigma^2}{n_4\\|\\gamma-\\mu\\|_2^2}, 0,1\\right)\n",
    "$$\n",
    "\n",
    "where $\\alpha_k=y_k^T \\mu-\\gamma^T \\gamma-y_k^T \\gamma-\\mu^T \\gamma$. We now write a function to find the parameters of this truncated normal."
   ]
  },
  {
   "cell_type": "code",
   "execution_count": 9,
   "id": "c8c64a33",
   "metadata": {},
   "outputs": [],
   "source": [
    "def calc_params_tau(theta, y=data):\n",
    "    \n",
    "    sig_sq, tau, mu1, mu2, gam1, gam2 = theta\n",
    "    y1, y2, group = y['X1'], y['X2'], y['group']\n",
    "    n1, n2, n3, n4 = len(group[group==1]), len(group[group==2]), len(group[group==3]), len(group[group==4])\n",
    "    num_obs = len(group)\n",
    "        \n",
    "    params = [0, 0]\n",
    "    params[1] = sig_sq / (n4*((gam1-mu1)**2 + (gam2-mu2)**2))\n",
    "    \n",
    "    mu = np.asarray([mu1, mu2])\n",
    "    gamma = np.asarray([gam1, gam2])\n",
    "    \n",
    "    for i in range(num_obs):\n",
    "        \n",
    "        if group[i] == 4:\n",
    "            yk = np.asarray([y1[i], y2[i]])\n",
    "            params[0] += yk@mu - gamma@gamma - yk@gamma - mu@gamma\n",
    "#             params[0] += yk@mu - yk@gamma - mu@gamma\n",
    "            \n",
    "    params[0] /= n4\n",
    "    \n",
    "    return params"
   ]
  },
  {
   "cell_type": "markdown",
   "id": "ed766c84",
   "metadata": {},
   "source": [
    "The marginal for $\\mu$ is \n",
    "\n",
    "$$\n",
    "\\begin{aligned}\n",
    "& p(\\mu\\mid y, \\theta[-\\mu]) \\propto \\exp \\left(-\\frac{1}{2 \\sigma^2} \\sum_{i \\in\\{1, 3, 4\\}}\\left(y_k-\\nu_i\\right)^T I^{-1}\\left(y_k-\\nu_i\\right)\\right) \\\\\n",
    "& \\propto \\exp \\left(-\\frac{1}{2} \\cdot \\frac{1}{\\sigma^2} \\sum_{i \\in\\{1,3, 4\\}}\\left(\\mu-\\alpha_k\\right)^T I^{-1}\\left(\\mu-\\alpha_k\\right)\\right) \\\\\n",
    "& \\propto \\exp \\left(-\\frac{1}{2} \\cdot \\frac{1}{\\sigma^2} \\sum_{i \\in\\{1,3, 4\\}}\\left(\\|\\mu\\|^2-2 \\mu^T \\alpha_k+\\left\\|\\alpha_k\\right\\|^2\\right)\\right) \\\\\n",
    "&\\text{(next, we use the usual complete-the-square trick for all three relevant groups to get)}\\\\\n",
    "& \\therefore \\mu \\mid y, \\theta[-\\mu] \\sim \\operatorname{Normal}\\left(\\frac{\\sum_{i \\in\\{1,3,4\\}} \\alpha_k}{n_1+0.5^2 n_3+\\tau^2 n_4}, \\frac{\\sigma^2}{n_1+0.5^2 n_3+\\tau^2 n_4}I\\right) \\\\\n",
    "&\n",
    "\\end{aligned}\n",
    "$$\n",
    "where  $\\alpha_1=y_k ; \\quad \\alpha_3=\\left(y_k-0.5 \\gamma\\right)*0.5 ; \\quad \\alpha_4=\\left(y_k-(1-\\tau) \\gamma\\right) * \\tau$. We now write a function to find the parameters of this normal."
   ]
  },
  {
   "cell_type": "code",
   "execution_count": 10,
   "id": "6fd84535",
   "metadata": {},
   "outputs": [],
   "source": [
    "def calc_params_mu(theta, y=data):\n",
    "    \n",
    "    sig_sq, tau, mu1, mu2, gam1, gam2 = theta\n",
    "    y1, y2, group = y['X1'].astype('float64'), y['X2'].astype('float64'), y['group']\n",
    "    n1, n2, n3, n4 = len(group[group==1]), len(group[group==2]), len(group[group==3]), len(group[group==4])\n",
    "    num_obs = len(group)\n",
    "    \n",
    "    params = [np.asarray([0., 0.]), np.eye(2)]\n",
    "    params[1] = (sig_sq / (n1 + 0.5*0.5*n3 + (tau**2)*n4))*np.eye(2)\n",
    "    \n",
    "    mu = np.asarray([mu1, mu2]).astype('float64')\n",
    "    gamma = np.asarray([gam1, gam2]).astype('float64')\n",
    "    \n",
    "    for i in range(num_obs):\n",
    "        \n",
    "        if group[i] == 1:\n",
    "            params[0] += (np.asarray([y1[i], y2[i]]))\n",
    "            \n",
    "        if group[i] == 3:\n",
    "            params[0] += ((0.5))*(np.asarray([y1[i],y2[i]])-0.5*gamma)\n",
    "            \n",
    "        if group[i] == 4:\n",
    "            params[0] += ((tau))*(np.asarray([y1[i],y2[i]])-((1-tau)*gamma))\n",
    "            \n",
    "    params[0] /= (n1 + 0.5*0.5*n3 + (tau**2)*n4)\n",
    "    \n",
    "    return params"
   ]
  },
  {
   "cell_type": "markdown",
   "id": "30c73923",
   "metadata": {},
   "source": [
    "The marginal for $\\gamma$ is very similar to $\\mu$ and we can directly write it as \n",
    "\n",
    "$$\n",
    "\\begin{aligned}\n",
    "\\gamma \\mid y, \\theta[-\\gamma] \\sim \\operatorname{Normal}\\left(\\frac{\\sum_{i \\in\\{2,3,4\\}} \\alpha_k}{n_2+0.5^2 n_3+(1-\\tau)^2 n_4}, \\frac{\\sigma^2}{n_2+0.5^2 n_3+(1-\\tau)^2 n_4}I\\right) \\\\\n",
    "&\n",
    "\\end{aligned}\n",
    "$$\n",
    "where  $\\alpha_2=y_k ; \\quad \\alpha_3=\\left(y_k-0.5 \\mu\\right) * 0.5 ; \\quad \\alpha_4=\\left(y_k-\\tau \\mu\\right) * (1-\\tau)$. We now write a function to find the parameters of this normal."
   ]
  },
  {
   "cell_type": "code",
   "execution_count": 11,
   "id": "9707c0b9",
   "metadata": {},
   "outputs": [],
   "source": [
    "def calc_params_gamma(theta, y=data):\n",
    "    \n",
    "    sig_sq, tau, mu1, mu2, gam1, gam2 = theta\n",
    "    y1, y2, group = y['X1'].astype('float64'), y['X2'].astype('float64'), y['group']\n",
    "    n1, n2, n3, n4 = len(group[group==1]), len(group[group==2]), len(group[group==3]), len(group[group==4])\n",
    "    num_obs = len(group)\n",
    "    \n",
    "    params = [np.asarray([0., 0.]), np.eye(2)]\n",
    "    params[1] = (sig_sq / (n2 + 0.5*0.5*n3 + ((1-tau)**2)*n4))*np.eye(2)\n",
    "    \n",
    "    mu = np.asarray([mu1, mu2])\n",
    "    gamma = np.asarray([gam1, gam2])\n",
    "    \n",
    "    for i in range(num_obs):\n",
    "        \n",
    "        if group[i] == 2:\n",
    "            params[0] += (np.asarray([y1[i], y2[i]]))\n",
    "            \n",
    "        if group[i] == 3:\n",
    "            params[0] += ((0.5))*(np.asarray([y1[i],y2[i]])-0.5*mu)\n",
    "            \n",
    "        if group[i] == 4:\n",
    "            params[0] += (((1-tau)))*(np.asarray([y1[i],y2[i]])-(tau*mu))\n",
    "            \n",
    "    params[0] /= (n2 + 0.5*0.5*n3 + ((1-tau)**2)*n4)\n",
    "    \n",
    "    return params"
   ]
  },
  {
   "cell_type": "markdown",
   "id": "e1c308c9",
   "metadata": {},
   "source": [
    "We are now ready to write our Gibbs Sampling routine.\n",
    "\n",
    "Note: since numpy uses the shape and scale parameterization of the gamma distribution, we use the following fact to sample from an inverse gamma: \n",
    "$$\n",
    "\\text { If } X \\sim \\operatorname{Gamma}(k, \\theta) \\text {, where } \\theta \\text { is the scale parameter, then } 1 / X \\sim I G(k, 1 / \\theta) \\text {. }\n",
    "$$"
   ]
  },
  {
   "cell_type": "code",
   "execution_count": 12,
   "id": "54374506",
   "metadata": {},
   "outputs": [],
   "source": [
    "def gibbs_sampling(initial, num_iters):\n",
    "    \n",
    "    samples = [initial]\n",
    "    \n",
    "    for i in tqdm(range(num_iters)):\n",
    "        temp = samples[-1].copy()\n",
    "        \n",
    "        params = calc_params_sig_sq(temp.copy())\n",
    "        recip_sig_sq = np.random.gamma(params[0], 1./params[1])\n",
    "        sig_sq = 1./recip_sig_sq\n",
    "        temp[0] = sig_sq\n",
    "        \n",
    "        params = calc_params_tau(temp.copy())\n",
    "        myclip_a = 0\n",
    "        myclip_b = 1\n",
    "        my_mean = params[0]\n",
    "        my_std = np.sqrt(params[1])\n",
    "        a, b = (myclip_a - my_mean) / my_std, (myclip_b - my_mean) / my_std\n",
    "        X = stats.truncnorm(a, b, loc=my_mean, scale=my_std) # define the truncated normal variable\n",
    "        temp[1] = X.rvs()\n",
    "        \n",
    "        params = calc_params_mu(temp.copy())\n",
    "        mu = np.random.multivariate_normal(params[0], params[1])\n",
    "        temp[2], temp[3] = mu[0], mu[1]\n",
    "        \n",
    "        params = calc_params_gamma(temp.copy())\n",
    "        gamma = np.random.multivariate_normal(params[0], params[1])\n",
    "        temp[4], temp[5] = gamma[0], gamma[1]\n",
    "        \n",
    "        samples.append(temp)\n",
    "        \n",
    "    return samples"
   ]
  },
  {
   "cell_type": "markdown",
   "id": "79952614",
   "metadata": {},
   "source": [
    "Let's run Gibbs Sampling on our data and check the estimates."
   ]
  },
  {
   "cell_type": "code",
   "execution_count": 13,
   "id": "5424bf28",
   "metadata": {},
   "outputs": [
    {
     "name": "stderr",
     "output_type": "stream",
     "text": [
      "100%|██████████████████████████████████| 100000/100000 [04:57<00:00, 335.81it/s]\n"
     ]
    }
   ],
   "source": [
    "np.random.seed(2)\n",
    "\n",
    "num_iters = int(1e5)\n",
    "burn_in = num_iters//100\n",
    "initial = [0.4, 0.5, 0., -0.5, 0., 0.5]\n",
    "samples_gs = gibbs_sampling(initial, num_iters);\n",
    "samples_gs = samples_gs[burn_in:]\n",
    "samples_gs = [np.asarray(i, dtype = 'float64') for i in samples_gs]"
   ]
  },
  {
   "cell_type": "code",
   "execution_count": 14,
   "id": "558f8ce0",
   "metadata": {},
   "outputs": [
    {
     "name": "stdout",
     "output_type": "stream",
     "text": [
      "The mean estimate for sigma_sq is 0.163\n",
      "The mean estimate for tau is 0.7\n",
      "The mean estimate for mu_1 is -1.359\n",
      "The mean estimate for mu_2 is -0.574\n",
      "The mean estimate for gamma_1 is -0.435\n",
      "The mean estimate for gamma_2 is 0.174\n"
     ]
    },
    {
     "data": {
      "image/png": "[encoded data removed]",
      "text/plain": [
       "<Figure size 1008x504 with 6 Axes>"
      ]
     },
     "metadata": {
      "needs_background": "light"
     },
     "output_type": "display_data"
    },
    {
     "name": "stdout",
     "output_type": "stream",
     "text": [
      "\n",
      "Using these estimates, we get the following:\n",
      "The mean of group 1 is (-1.359, -0.574)\n",
      "The mean of group 2 is (-0.435, 0.174)\n",
      "The mean of group 3 is (-0.897, -0.2)\n",
      "The mean of group 4 is (-1.081, -0.35)\n",
      "\n",
      "For reference:\n",
      "The actual mean of group 1 is (-1.403, -0.423)\n",
      "The actual mean of group 2 is (-0.196, 0.471)\n",
      "The actual mean of group 3 is (-0.919, -0.289)\n",
      "The actual mean of group 4 is (-1.25, -0.594)\n",
      "\n",
      "We also look at the correlation at lag 1 to see the Markov nature of the process.\n",
      "The Pearson correlation for sigma_sq is 0.637\n",
      "The Pearson correlation for tau is 0.863\n",
      "The Pearson correlation for mu_1 is 0.029\n",
      "The Pearson correlation for mu_2 is 0.201\n",
      "The Pearson correlation for gamma_1 is 0.711\n",
      "The Pearson correlation for gamma_2 is 0.67\n"
     ]
    }
   ],
   "source": [
    "check_estimates(samples_gs)"
   ]
  },
  {
   "cell_type": "markdown",
   "id": "49368e34",
   "metadata": {},
   "source": [
    "Firstly, the correlation values for the Gibbs routine is generally high (due to the Markov nature) but not as high as the other MCMC methods. This reflects the fact that a random draw is taken for every parameter at every iteration, which might not be correlated to the previous draw. However we do expect some correlation since the new draws for the parameters are used at every iteration when calculating the marginals for the remaining parameters.\n",
    "\n",
    "Also, the statistic values using Gibbs Sampling are once again decent and comparable to the other MCMC methods we have seen so far.\n",
    "\n",
    "Finally, we move to Importance Sampling."
   ]
  },
  {
   "cell_type": "markdown",
   "id": "a9a8c138",
   "metadata": {},
   "source": [
    "## 4. Importance Sampling (via Rejection Sampling)"
   ]
  },
  {
   "cell_type": "markdown",
   "id": "2f4d38ab",
   "metadata": {},
   "source": [
    "For rejection sampling, we need to pick a proposal distribution and then scale it to a value above our target distribution (the posterior in our case). We pick normal distributions centered at the mean of the posterior (up to a constant). Since we do not know anything about the shape of the posterior, a good place to start is the mean of the data since the mass is likely to be of higher concentration there, which will result in higher efficiency (more acceptance) of our algorithm. This is done for $\\mu$ and $\\gamma$. The stddev of all of these is kept the same at 0.4. We can vary this later to find the best jump parameter.\n",
    "\n",
    "As for $\\sigma^2$, all we know is that it always needs to be positive. For this, we use the scaled (divide by 10) $\\chi^2$ distribution with 3 degrees of freedom since it's peak is closest to the value of $\\sigma^2$ estimated by MH.\n",
    "\n",
    "For $\\tau$, we use the truncated normal instead of the actual normal to ensure that the values are constrained between 0 and 1. The mean is kept at 0.8 since using this value takes us closest to the mean of the data. Accordingly, the variance is also reduced to ensure that we do not keep going out of bounds.\n",
    "\n",
    "So we use the following proposals (keeping in mind that since we're modelling the parameters as independent, the final proposal $g$ is a product of all of these):\n",
    "1. $\\sigma^2: \\frac{\\chi^2_{(3)}}{10}$ \n",
    "2. $\\tau: N(0.80, 0.04)$ truncated between 0 and 1.\n",
    "3. $\\mu_1: N(-1.40, 0.16)$\n",
    "4. $\\mu_2: N(-0.42, 0.16)$\n",
    "5. $\\gamma_1: N(-0.19, 0.16)$\n",
    "6. $\\gamma_2: N(0.47, 0.16)$\n",
    "\n",
    "Note that we have to raise $g$ to the number of data points since the likelihood is compounded over the same number of data points. If we don't do this, our numerator in the acceptance probability will be way lower than the denominator and we will never accept any sample.\n",
    "\n",
    "The scaling factor is another hyperparameter we need to choose. Since we have given some thought into picking the proposal distributions and ensured that the peaks are where they need to be, we do not need our scaling factor to be very high. We start with a value of 50 since it should ensure that the posterior is always contained inside the scaled proposal distribution, while also not being so high as to result is a very poor efficiency."
   ]
  },
  {
   "cell_type": "code",
   "execution_count": 8,
   "id": "6cc64bc8",
   "metadata": {},
   "outputs": [],
   "source": [
    "np.random.seed(2)\n",
    "\n",
    "def rejection(num_iters, M):\n",
    "    \n",
    "    samples = []\n",
    "    \n",
    "    for _ in tqdm(range(num_iters)):\n",
    "        \n",
    "        sig_sq_c = np.random.chisquare(df=3)/10\n",
    "        a, b = (0-0.8)/0.2, (1-0.8)/0.2\n",
    "        X = stats.truncnorm(a, b, 0.8, 0.2) # define the truncated normal variable\n",
    "        tau_c = X.rvs(1)[0]\n",
    "        mu1_c, mu2_c = np.random.normal(-1.40, 0.4), np.random.normal(-0.42, 0.4)\n",
    "        gam1_c, gam2_c = np.random.normal(-0.19, 0.4), np.random.normal(0.47, 0.4)\n",
    "        \n",
    "        candidate = [sig_sq_c, tau_c, mu1_c, mu2_c, gam1_c, gam2_c]\n",
    "        \n",
    "        g_cand = chi2.pdf(sig_sq_c, 3)*norm(0.8, 0.2).pdf(tau_c)*norm(-1.4, 0.4).pdf(mu1_c)\n",
    "        g_cand *= norm(-0.42, 0.4).pdf(mu2_c)*norm(-0.19, 0.4).pdf(gam1_c)*norm(0.47, 0.4).pdf(gam2_c)\n",
    "        g_cand = g_cand**24 # raise g to number of data points\n",
    "        \n",
    "        accept_prob = calc_posterior(candidate) / (M*g_cand)\n",
    "        \n",
    "        if np.random.random() < accept_prob:\n",
    "            samples.append(candidate)\n",
    "            \n",
    "    return samples"
   ]
  },
  {
   "cell_type": "markdown",
   "id": "85c4db25",
   "metadata": {},
   "source": [
    "Let's run Rejection Sampling on our data and check the results."
   ]
  },
  {
   "cell_type": "code",
   "execution_count": 9,
   "id": "c7847328",
   "metadata": {},
   "outputs": [
    {
     "name": "stderr",
     "output_type": "stream",
     "text": [
      "100%|██████████████████████████████████| 100000/100000 [09:51<00:00, 169.16it/s]\n"
     ]
    }
   ],
   "source": [
    "num_iters = int(1e5)\n",
    "M = 50\n",
    "\n",
    "samples_rs = rejection(num_iters, M)"
   ]
  },
  {
   "cell_type": "code",
   "execution_count": 10,
   "id": "e72bc1d3",
   "metadata": {},
   "outputs": [
    {
     "name": "stdout",
     "output_type": "stream",
     "text": [
      "The mean estimate for sigma_sq is 0.304\n",
      "The mean estimate for tau is 0.74\n",
      "The mean estimate for mu_1 is -1.407\n",
      "The mean estimate for mu_2 is -0.436\n",
      "The mean estimate for gamma_1 is -0.196\n",
      "The mean estimate for gamma_2 is 0.46\n"
     ]
    },
    {
     "data": {
      "image/png": "[encoded data removed]",
      "text/plain": [
       "<Figure size 1008x504 with 6 Axes>"
      ]
     },
     "metadata": {
      "needs_background": "light"
     },
     "output_type": "display_data"
    },
    {
     "name": "stdout",
     "output_type": "stream",
     "text": [
      "\n",
      "Using these estimates, we get the following:\n",
      "The mean of group 1 is (-1.407, -0.436)\n",
      "The mean of group 2 is (-0.196, 0.46)\n",
      "The mean of group 3 is (-0.801, 0.012)\n",
      "The mean of group 4 is (-1.092, -0.203)\n",
      "\n",
      "For reference:\n",
      "The actual mean of group 1 is (-1.403, -0.423)\n",
      "The actual mean of group 2 is (-0.196, 0.471)\n",
      "The actual mean of group 3 is (-0.919, -0.289)\n",
      "The actual mean of group 4 is (-1.25, -0.594)\n",
      "\n",
      "We also look at the correlation at lag 1 to see the Markov nature of the process.\n",
      "The Pearson correlation for sigma_sq is -0.004\n",
      "The Pearson correlation for tau is 0.005\n",
      "The Pearson correlation for mu_1 is 0.001\n",
      "The Pearson correlation for mu_2 is 0.004\n",
      "The Pearson correlation for gamma_1 is 0.002\n",
      "The Pearson correlation for gamma_2 is 0.004\n"
     ]
    }
   ],
   "source": [
    "check_estimates(samples_rs, data)"
   ]
  },
  {
   "cell_type": "markdown",
   "id": "976c2a6f",
   "metadata": {},
   "source": [
    "We see here that the estimates perform really well. This is mostly because our choice of the proposal distribution was highly tailored and used information we obtained from the MH algorithm. If we were to randomly start the RS algorithm using information just from the priors, we should expect to see poorer performance. \n",
    "\n",
    "</br>\n",
    "Another thing worth noticing is that the correaltion values are really low, as expected. The RS algorithm is not an MCMC algorithm and hence does not rely on the Markov property, which is confirmed by the values.\n",
    "</br>\n",
    "</br>\n",
    "Now that we have the samples from rejection sampling, we can use importance sampling to find the mean instead of computing it directly from the samples. We will calculate the mean of the parameters using importance sampling.\n",
    "$$\n",
    "E[f(x)]=\\int f(x) p(x) d x=\\int f(x) \\frac{p(x)}{q(x)} q(x) d x \\approx \\frac{1}{n} \\sum_i f\\left(x_i\\right) \\frac{p\\left(x_i\\right)}{q\\left(x_i\\right)}\n",
    "$$\n",
    "Here we notice that sampling from $p$ directly is difficult. So instead, we sample from $q$ and use the ratio of the densities to estimate the desired moment. If we are trying to estimate $E[\\tau]$ for example, the importance distribution $q$ could be set to the uniform prior. The process is similar for $\\mu$ and $\\gamma$, with the bounds of uniform changed. For $\\tau$, we use $[0,1]$, while for $\\mu$ we use $[-2, -1] \\times [-1, 0]$ and for $\\gamma$ we use $[-1, 0] \\times [0, 1]$.\n",
    "</br>\n",
    "</br>\n",
    "To start the process, we need to fit a kernel density to our list of samples generated using RS to get values for $p$. Next we fit them and calculate the means using the uniform importance distribution."
   ]
  },
  {
   "cell_type": "code",
   "execution_count": 11,
   "id": "bbdf959c",
   "metadata": {},
   "outputs": [],
   "source": [
    "def importance_sampling(samples, num_obs):\n",
    "\n",
    "    means = []\n",
    "    bounds = [(0,1), (-2, -1), (-1, 0), (-1, 0), (0, 1)]\n",
    "\n",
    "    for i in tqdm(range(5)):\n",
    "\n",
    "        estimates = [sample[i+1] for sample in samples]\n",
    "        kde = sm.nonparametric.KDEUnivariate(estimates)\n",
    "        kde.fit()\n",
    "        mean = 0\n",
    "        \n",
    "        for _ in range(num_obs):\n",
    "            \n",
    "            uni = np.random.uniform(low=bounds[i][0], high=bounds[i][1]) # generate sample from importance dist.\n",
    "            mean += uni*(kde.evaluate(uni))\n",
    "            \n",
    "        means.append(mean/num_obs)\n",
    "        \n",
    "    return means"
   ]
  },
  {
   "cell_type": "markdown",
   "id": "e42441a2",
   "metadata": {},
   "source": [
    "Let's run Importance Sampling on our data and check the results."
   ]
  },
  {
   "cell_type": "code",
   "execution_count": 12,
   "id": "613fafa7",
   "metadata": {},
   "outputs": [
    {
     "name": "stderr",
     "output_type": "stream",
     "text": [
      "100%|█████████████████████████████████████████████| 5/5 [03:50<00:00, 46.20s/it]"
     ]
    },
    {
     "name": "stdout",
     "output_type": "stream",
     "text": [
      "\n",
      "Using these estimates, we get the following:\n",
      "The mean of group 1 is (-1.121, -0.37)\n",
      "The mean of group 2 is (-0.253, 0.371)\n",
      "The mean of group 4 is (-0.886, -0.169)\n",
      "\n",
      "For reference:\n",
      "The actual mean of group 1 is (-1.403, -0.423)\n",
      "The actual mean of group 2 is (-0.196, 0.471)\n",
      "The actual mean of group 3 is (-0.919, -0.289)\n",
      "The actual mean of group 4 is (-1.25, -0.594)\n"
     ]
    },
    {
     "name": "stderr",
     "output_type": "stream",
     "text": [
      "\n"
     ]
    }
   ],
   "source": [
    "num_obs = int(1e5)\n",
    "\n",
    "means_is = importance_sampling(samples_rs, num_obs)\n",
    "means_g4_1 = means_is[0][0]*means_is[1][0]+(1-means_is[0][0])*means_is[3][0]\n",
    "means_g4_2 = means_is[0][0]*means_is[2][0]+(1-means_is[0][0])*means_is[4][0]\n",
    "\n",
    "print(\"\\nUsing these estimates, we get the following:\")\n",
    "print(\"The mean of group 1 is ({}, {})\".format(round(means_is[1][0], 3), round(means_is[2][0], 3)))\n",
    "print(\"The mean of group 2 is ({}, {})\".format(round(means_is[3][0], 3), round(means_is[4][0], 3)))\n",
    "print(\"The mean of group 4 is ({}, {})\".format(round(means_g4_1, 3), round(means_g4_2, 3)))\n",
    "\n",
    "actual_estimates()"
   ]
  },
  {
   "cell_type": "markdown",
   "id": "f3bc0180",
   "metadata": {},
   "source": [
    "We see that importance sampling does not work as well as the MH algorithm. This might be due to the fact that we first perform rejection sampling to sample from the target distribution and then perform importance sampling on it to get the mean. This two layered process results in increased stochastic-ness of the entire algorithm leading to below par estimates."
   ]
  },
  {
   "cell_type": "markdown",
   "id": "854164b9",
   "metadata": {},
   "source": [
    "## 5. Summary"
   ]
  },
  {
   "cell_type": "markdown",
   "id": "7c9c0f55",
   "metadata": {},
   "source": [
    "In conclusion, HMC with a small step-size as well as Gibbs Sampling perform well. This is expected since they are known to do well in higher dimension sampling. MH also works well but is limited due to it's tendency to get stuck at a point for high dimensions. Importance Sampling is tricky cause it is not really a sampling method. It is used to derive statistics for unknown distributions. We used Rejection Sampling in lieu of it which worked really well. \n",
    "\n",
    "As for scalability, we should expect MH to scale well with more data, but not so well if the number of parameters in the model are increased. On the other hand, Gibbs and HMC will work well with even more dimensions but due to the involvement of gradients and marginals, can be expected to run slower and require much more computational power once the size of the dataset increases. Rejection sampling is pretty straight-forward and can work well with more data and more parameters. "
   ]
  },
  {
   "cell_type": "code",
   "execution_count": null,
   "id": "e9af1719",
   "metadata": {},
   "outputs": [],
   "source": []
  }
 ],
 "metadata": {
  "kernelspec": {
   "display_name": "Python [conda env:stats315a]",
   "language": "python",
   "name": "conda-env-stats315a-py"
  },
  "language_info": {
   "codemirror_mode": {
    "name": "ipython",
    "version": 3
   },
   "file_extension": ".py",
   "mimetype": "text/x-python",
   "name": "python",
   "nbconvert_exporter": "python",
   "pygments_lexer": "ipython3",
   "version": "3.9.7"
  }
 },
 "nbformat": 4,
 "nbformat_minor": 5
}
